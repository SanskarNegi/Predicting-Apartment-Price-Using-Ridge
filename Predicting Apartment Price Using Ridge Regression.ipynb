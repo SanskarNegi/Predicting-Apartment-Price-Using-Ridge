{
 "cells": [
  {
   "cell_type": "code",
   "execution_count": 1,
   "metadata": {},
   "outputs": [],
   "source": [
    "import pandas as pd  \n",
    "import matplotlib.pyplot as plt # for visualization\n",
    "%matplotlib inline\n",
    "import seaborn as sns # for visualization\n",
    "from glob import glob  # find pattern in directory\n",
    "\n",
    "from category_encoders import OneHotEncoder  # For encoding non-numeric value (transformer)\n",
    "from sklearn.pipeline import make_pipeline # Pipeline (package both transformer and  predictor)\n",
    "from sklearn.linear_model import Ridge  # Linear Model Building\n",
    "from sklearn.impute import SimpleImputer  # Impute missing values (transformer)\n",
    "from sklearn.metrics import mean_absolute_error # Performance Metrics\n",
    "from sklearn.utils.validation import check_is_fitted  # Check if model is fitted or not\n",
    "from sklearn.model_selection import train_test_split # split dataset into training set and test set\n",
    "from ipywidgets import interact, Dropdown, IntSlider, FloatSlider # For interactive jupyter widget "
   ]
  },
  {
   "cell_type": "code",
   "execution_count": 41,
   "metadata": {},
   "outputs": [],
   "source": [
    "def wrangle(filepath):\n",
    "    # Read CSV file into DataFrame\n",
    "    df = pd.read_csv(filepath)\n",
    "    \n",
    "    # Subset data: Apartments in \"Capital Federal\", less than 400,000\n",
    "    mask_ba = df[\"place_with_parent_names\"].str.contains(\"Capital Federal\")\n",
    "    mask_apt = df[\"property_type\"] == \"apartment\"\n",
    "    mask_price = df[\"price_aprox_usd\"] < 400_000\n",
    "    \n",
    "    df = df[mask_ba & mask_apt & mask_price]\n",
    "    \n",
    "    # Subset data: Remove outliers for \"surface_covered_in_m2\"\n",
    "    low,high = df[\"surface_covered_in_m2\"].quantile([0.1,0.9])\n",
    "    mask_area = df[\"surface_covered_in_m2\"].between(low,high)\n",
    "    df = df[mask_area]\n",
    "    \n",
    "    # Split lat-lon col\n",
    "    df[[\"lat\",\"lon\"]] = df[\"lat-lon\"].str.split(\",\", expand=True).astype(float) \n",
    "    df.drop(columns=[\"lat-lon\"], inplace=True)\n",
    "    \n",
    "    # Get place name(neighborhood)\n",
    "    df[\"neighborhood\"] = df[\"place_with_parent_names\"].str.split(\"|\", expand=True)[3]\n",
    "    df.drop(columns=[\"place_with_parent_names\"], inplace=True)\n",
    "    \n",
    "    # Drop features with high null values\n",
    "    df.drop(columns=[\"floor\",\"expenses\"],inplace=True)\n",
    "    \n",
    "    # Drop features with low- and high-cardinality\n",
    "    df.drop(columns=[\"operation\", \"property_type\", \"currency\", \"properati_url\"],inplace=True)\n",
    "    \n",
    "    # Drop leaky columns\n",
    "    df.drop(columns=[\n",
    "     'price',\n",
    "     'price_aprox_local_currency',\n",
    "     'price_per_m2',\n",
    "     'price_usd_per_m2'\n",
    "    ], inplace=True)\n",
    "    \n",
    "    # Drop columns with multicolinearity\n",
    "    df.drop(columns=[\"surface_total_in_m2\",\"rooms\"],inplace=True)\n",
    "    \n",
    "    return df\n",
    "    \n"
   ]
  },
  {
   "cell_type": "code",
   "execution_count": 42,
   "metadata": {},
   "outputs": [
    {
     "data": {
      "text/plain": [
       "['F:Datasets\\\\buenos-aires-1.csv',\n",
       " 'F:Datasets\\\\buenos-aires-2.csv',\n",
       " 'F:Datasets\\\\buenos-aires-3.csv',\n",
       " 'F:Datasets\\\\buenos-aires-4.csv',\n",
       " 'F:Datasets\\\\buenos-aires-5.csv']"
      ]
     },
     "execution_count": 42,
     "metadata": {},
     "output_type": "execute_result"
    }
   ],
   "source": [
    "# getting csv filename from diretory\n",
    "files = glob(\"F:Datasets/buenos-aires-*.csv\")\n",
    "files"
   ]
  },
  {
   "cell_type": "code",
   "execution_count": 43,
   "metadata": {},
   "outputs": [],
   "source": [
    "# getting all the csv file together in frame\n",
    "frames = [wrangle(file) for file in files]"
   ]
  },
  {
   "cell_type": "code",
   "execution_count": 44,
   "metadata": {},
   "outputs": [],
   "source": [
    "# combine/concate all file in frame (along the rows)\n",
    "df = pd.concat(frames, ignore_index=True) "
   ]
  },
  {
   "cell_type": "code",
   "execution_count": 45,
   "metadata": {},
   "outputs": [
    {
     "data": {
      "text/html": [
       "<div>\n",
       "<style scoped>\n",
       "    .dataframe tbody tr th:only-of-type {\n",
       "        vertical-align: middle;\n",
       "    }\n",
       "\n",
       "    .dataframe tbody tr th {\n",
       "        vertical-align: top;\n",
       "    }\n",
       "\n",
       "    .dataframe thead th {\n",
       "        text-align: right;\n",
       "    }\n",
       "</style>\n",
       "<table border=\"1\" class=\"dataframe\">\n",
       "  <thead>\n",
       "    <tr style=\"text-align: right;\">\n",
       "      <th></th>\n",
       "      <th>price_aprox_usd</th>\n",
       "      <th>surface_covered_in_m2</th>\n",
       "      <th>lat</th>\n",
       "      <th>lon</th>\n",
       "      <th>neighborhood</th>\n",
       "    </tr>\n",
       "  </thead>\n",
       "  <tbody>\n",
       "    <tr>\n",
       "      <th>0</th>\n",
       "      <td>129000.0</td>\n",
       "      <td>70.0</td>\n",
       "      <td>-34.584651</td>\n",
       "      <td>-58.454693</td>\n",
       "      <td>Chacarita</td>\n",
       "    </tr>\n",
       "    <tr>\n",
       "      <th>1</th>\n",
       "      <td>87000.0</td>\n",
       "      <td>42.0</td>\n",
       "      <td>-34.638979</td>\n",
       "      <td>-58.500115</td>\n",
       "      <td>Villa Luro</td>\n",
       "    </tr>\n",
       "    <tr>\n",
       "      <th>2</th>\n",
       "      <td>118000.0</td>\n",
       "      <td>54.0</td>\n",
       "      <td>-34.615847</td>\n",
       "      <td>-58.459957</td>\n",
       "      <td>Caballito</td>\n",
       "    </tr>\n",
       "    <tr>\n",
       "      <th>3</th>\n",
       "      <td>57000.0</td>\n",
       "      <td>42.0</td>\n",
       "      <td>-34.625222</td>\n",
       "      <td>-58.382382</td>\n",
       "      <td>Constitución</td>\n",
       "    </tr>\n",
       "    <tr>\n",
       "      <th>4</th>\n",
       "      <td>90000.0</td>\n",
       "      <td>50.0</td>\n",
       "      <td>-34.610610</td>\n",
       "      <td>-58.412511</td>\n",
       "      <td>Once</td>\n",
       "    </tr>\n",
       "  </tbody>\n",
       "</table>\n",
       "</div>"
      ],
      "text/plain": [
       "   price_aprox_usd  surface_covered_in_m2        lat        lon  neighborhood\n",
       "0         129000.0                   70.0 -34.584651 -58.454693     Chacarita\n",
       "1          87000.0                   42.0 -34.638979 -58.500115    Villa Luro\n",
       "2         118000.0                   54.0 -34.615847 -58.459957     Caballito\n",
       "3          57000.0                   42.0 -34.625222 -58.382382  Constitución\n",
       "4          90000.0                   50.0 -34.610610 -58.412511          Once"
      ]
     },
     "execution_count": 45,
     "metadata": {},
     "output_type": "execute_result"
    }
   ],
   "source": [
    "df.head()"
   ]
  },
  {
   "cell_type": "markdown",
   "metadata": {},
   "source": [
    "Find  \n",
    "i. Missing values   \n",
    "ii. low and high cardinality  \n",
    "iii. leakage (leaky columns)  \n",
    "iv. multicolinearity"
   ]
  },
  {
   "cell_type": "markdown",
   "metadata": {},
   "source": [
    "## Explore"
   ]
  },
  {
   "cell_type": "code",
   "execution_count": 19,
   "metadata": {},
   "outputs": [
    {
     "data": {
      "text/plain": [
       "operation                      0.000000\n",
       "property_type                  0.000000\n",
       "price                          0.000000\n",
       "currency                       0.000000\n",
       "price_aprox_local_currency     0.000000\n",
       "price_aprox_usd                0.000000\n",
       "surface_total_in_m2           27.803099\n",
       "surface_covered_in_m2          0.000000\n",
       "price_usd_per_m2              31.084777\n",
       "price_per_m2                   0.000000\n",
       "floor                         71.133394\n",
       "rooms                         19.690064\n",
       "expenses                      73.579459\n",
       "properati_url                  0.000000\n",
       "lat                            4.041325\n",
       "lon                            4.041325\n",
       "neighborhood                   0.000000\n",
       "dtype: float64"
      ]
     },
     "execution_count": 19,
     "metadata": {},
     "output_type": "execute_result"
    }
   ],
   "source": [
    "# Look at the columns for missing Values\n",
    "\n",
    "df.isnull().sum() # count total null values in each columns\n",
    "(df.isnull().sum() / len(df))*100    # count total per% of null values in each column"
   ]
  },
  {
   "cell_type": "markdown",
   "metadata": {},
   "source": [
    "modify wrangle function to drop columns having more than half null values"
   ]
  },
  {
   "cell_type": "code",
   "execution_count": 20,
   "metadata": {},
   "outputs": [
    {
     "name": "stdout",
     "output_type": "stream",
     "text": [
      "<class 'pandas.core.frame.DataFrame'>\n",
      "RangeIndex: 6582 entries, 0 to 6581\n",
      "Data columns (total 17 columns):\n",
      " #   Column                      Non-Null Count  Dtype  \n",
      "---  ------                      --------------  -----  \n",
      " 0   operation                   6582 non-null   object \n",
      " 1   property_type               6582 non-null   object \n",
      " 2   price                       6582 non-null   float64\n",
      " 3   currency                    6582 non-null   object \n",
      " 4   price_aprox_local_currency  6582 non-null   float64\n",
      " 5   price_aprox_usd             6582 non-null   float64\n",
      " 6   surface_total_in_m2         4752 non-null   float64\n",
      " 7   surface_covered_in_m2       6582 non-null   float64\n",
      " 8   price_usd_per_m2            4536 non-null   float64\n",
      " 9   price_per_m2                6582 non-null   float64\n",
      " 10  floor                       1900 non-null   float64\n",
      " 11  rooms                       5286 non-null   float64\n",
      " 12  expenses                    1739 non-null   object \n",
      " 13  properati_url               6582 non-null   object \n",
      " 14  lat                         6316 non-null   float64\n",
      " 15  lon                         6316 non-null   float64\n",
      " 16  neighborhood                6582 non-null   object \n",
      "dtypes: float64(11), object(6)\n",
      "memory usage: 874.3+ KB\n"
     ]
    }
   ],
   "source": [
    "df.info()"
   ]
  },
  {
   "cell_type": "markdown",
   "metadata": {},
   "source": [
    "Next thing we need to look out for categorical features having low and high cardinality"
   ]
  },
  {
   "cell_type": "code",
   "execution_count": 26,
   "metadata": {},
   "outputs": [
    {
     "data": {
      "text/plain": [
       "operation           1\n",
       "property_type       1\n",
       "currency            2\n",
       "properati_url    6582\n",
       "neighborhood       57\n",
       "dtype: int64"
      ]
     },
     "execution_count": 26,
     "metadata": {},
     "output_type": "execute_result"
    }
   ],
   "source": [
    "# We know that all categorical columns in our dataset are of object type\n",
    "df.select_dtypes(\"object\")\n",
    "# Look for unique value in each categorical column so we can find out cardinality\n",
    "df.select_dtypes(\"object\").nunique()"
   ]
  },
  {
   "cell_type": "code",
   "execution_count": 27,
   "metadata": {},
   "outputs": [
    {
     "data": {
      "text/html": [
       "<div>\n",
       "<style scoped>\n",
       "    .dataframe tbody tr th:only-of-type {\n",
       "        vertical-align: middle;\n",
       "    }\n",
       "\n",
       "    .dataframe tbody tr th {\n",
       "        vertical-align: top;\n",
       "    }\n",
       "\n",
       "    .dataframe thead th {\n",
       "        text-align: right;\n",
       "    }\n",
       "</style>\n",
       "<table border=\"1\" class=\"dataframe\">\n",
       "  <thead>\n",
       "    <tr style=\"text-align: right;\">\n",
       "      <th></th>\n",
       "      <th>operation</th>\n",
       "      <th>property_type</th>\n",
       "      <th>currency</th>\n",
       "      <th>properati_url</th>\n",
       "      <th>neighborhood</th>\n",
       "    </tr>\n",
       "  </thead>\n",
       "  <tbody>\n",
       "    <tr>\n",
       "      <th>0</th>\n",
       "      <td>sell</td>\n",
       "      <td>apartment</td>\n",
       "      <td>USD</td>\n",
       "      <td>http://chacarita.properati.com.ar/10qlv_venta_...</td>\n",
       "      <td>Chacarita</td>\n",
       "    </tr>\n",
       "    <tr>\n",
       "      <th>1</th>\n",
       "      <td>sell</td>\n",
       "      <td>apartment</td>\n",
       "      <td>USD</td>\n",
       "      <td>http://villa-luro.properati.com.ar/12m82_venta...</td>\n",
       "      <td>Villa Luro</td>\n",
       "    </tr>\n",
       "    <tr>\n",
       "      <th>2</th>\n",
       "      <td>sell</td>\n",
       "      <td>apartment</td>\n",
       "      <td>USD</td>\n",
       "      <td>http://caballito.properati.com.ar/11wqh_venta_...</td>\n",
       "      <td>Caballito</td>\n",
       "    </tr>\n",
       "    <tr>\n",
       "      <th>3</th>\n",
       "      <td>sell</td>\n",
       "      <td>apartment</td>\n",
       "      <td>USD</td>\n",
       "      <td>http://constitucion.properati.com.ar/k2f0_vent...</td>\n",
       "      <td>Constitución</td>\n",
       "    </tr>\n",
       "    <tr>\n",
       "      <th>4</th>\n",
       "      <td>sell</td>\n",
       "      <td>apartment</td>\n",
       "      <td>USD</td>\n",
       "      <td>http://once.properati.com.ar/suwa_venta_depart...</td>\n",
       "      <td>Once</td>\n",
       "    </tr>\n",
       "  </tbody>\n",
       "</table>\n",
       "</div>"
      ],
      "text/plain": [
       "  operation property_type currency  \\\n",
       "0      sell     apartment      USD   \n",
       "1      sell     apartment      USD   \n",
       "2      sell     apartment      USD   \n",
       "3      sell     apartment      USD   \n",
       "4      sell     apartment      USD   \n",
       "\n",
       "                                       properati_url  neighborhood  \n",
       "0  http://chacarita.properati.com.ar/10qlv_venta_...     Chacarita  \n",
       "1  http://villa-luro.properati.com.ar/12m82_venta...    Villa Luro  \n",
       "2  http://caballito.properati.com.ar/11wqh_venta_...     Caballito  \n",
       "3  http://constitucion.properati.com.ar/k2f0_vent...  Constitución  \n",
       "4  http://once.properati.com.ar/suwa_venta_depart...          Once  "
      ]
     },
     "execution_count": 27,
     "metadata": {},
     "output_type": "execute_result"
    }
   ],
   "source": [
    "df.select_dtypes(\"object\").head()\n",
    "# low cardinality features: operation, property_type, currency\n",
    "# High cardinality features: properati_url"
   ]
  },
  {
   "cell_type": "code",
   "execution_count": 33,
   "metadata": {},
   "outputs": [
    {
     "data": {
      "text/plain": [
       "['lat',\n",
       " 'lon',\n",
       " 'neighborhood',\n",
       " 'price',\n",
       " 'price_aprox_local_currency',\n",
       " 'price_aprox_usd',\n",
       " 'price_per_m2',\n",
       " 'price_usd_per_m2',\n",
       " 'rooms',\n",
       " 'surface_covered_in_m2',\n",
       " 'surface_total_in_m2']"
      ]
     },
     "execution_count": 33,
     "metadata": {},
     "output_type": "execute_result"
    }
   ],
   "source": [
    "# Drop leaky columns\n",
    "sorted(df.columns)"
   ]
  },
  {
   "cell_type": "code",
   "execution_count": 39,
   "metadata": {},
   "outputs": [
    {
     "data": {
      "image/png": "[encoded data removed]",
      "text/plain": [
       "<Figure size 432x288 with 2 Axes>"
      ]
     },
     "metadata": {
      "needs_background": "light"
     },
     "output_type": "display_data"
    }
   ],
   "source": [
    "# Drop columns with multicolinearity\n",
    "corr = df.select_dtypes(\"number\").drop(columns=\"price_aprox_usd\").corr()\n",
    "# Heatmap to visualise correlation between features\n",
    "sns.heatmap(corr);"
   ]
  },
  {
   "cell_type": "code",
   "execution_count": 40,
   "metadata": {},
   "outputs": [
    {
     "name": "stdout",
     "output_type": "stream",
     "text": [
      "<class 'pandas.core.frame.DataFrame'>\n",
      "RangeIndex: 6582 entries, 0 to 6581\n",
      "Data columns (total 7 columns):\n",
      " #   Column                 Non-Null Count  Dtype  \n",
      "---  ------                 --------------  -----  \n",
      " 0   price_aprox_usd        6582 non-null   float64\n",
      " 1   surface_total_in_m2    4752 non-null   float64\n",
      " 2   surface_covered_in_m2  6582 non-null   float64\n",
      " 3   rooms                  5286 non-null   float64\n",
      " 4   lat                    6316 non-null   float64\n",
      " 5   lon                    6316 non-null   float64\n",
      " 6   neighborhood           6582 non-null   object \n",
      "dtypes: float64(6), object(1)\n",
      "memory usage: 360.1+ KB\n"
     ]
    }
   ],
   "source": [
    "df.info()"
   ]
  },
  {
   "cell_type": "markdown",
   "metadata": {},
   "source": [
    "Amongs surface_total_in_m2, surface_covered_in_m2 and room which are positively correlated(showing multiclolinearity) we have to drop others and take any one out of it, question is which one to choose ?  \n",
    "Well our data itself has answer for us, surface_covered_in_m2 has zero null value, so we are selecting this one.\n"
   ]
  },
  {
   "cell_type": "markdown",
   "metadata": {},
   "source": [
    "## Split Data"
   ]
  },
  {
   "cell_type": "code",
   "execution_count": 46,
   "metadata": {},
   "outputs": [],
   "source": [
    "features = [\"surface_covered_in_m2\",\"lat\",\"lon\",\"neighborhood\"]\n",
    "target = \"price_aprox_usd\""
   ]
  },
  {
   "cell_type": "code",
   "execution_count": 47,
   "metadata": {},
   "outputs": [],
   "source": [
    "X = df[features]\n",
    "y = df[target]"
   ]
  },
  {
   "cell_type": "code",
   "execution_count": 48,
   "metadata": {},
   "outputs": [],
   "source": [
    "# Spliting data into training and testing set\n",
    "X_train, X_test, y_train, y_test = train_test_split(X,y, train_size= 0.8, shuffle=True)"
   ]
  },
  {
   "cell_type": "markdown",
   "metadata": {},
   "source": [
    "## Build Model"
   ]
  },
  {
   "cell_type": "markdown",
   "metadata": {},
   "source": [
    "### Baseline Model"
   ]
  },
  {
   "cell_type": "markdown",
   "metadata": {},
   "source": [
    "The first step in building a model is baselining. It's always a model makes only one prediction — in this case, it predicts the same price regardless of feature, often times that single prediction in mean value of actual prediction of training set"
   ]
  },
  {
   "cell_type": "code",
   "execution_count": 49,
   "metadata": {},
   "outputs": [
    {
     "name": "stdout",
     "output_type": "stream",
     "text": [
      "Mean apt. price: 132484.13\n",
      "Baseline MEA 44668.37\n"
     ]
    }
   ],
   "source": [
    "y_mean = round(y_train.mean(),2)\n",
    "y_pred_train = [y_mean]  * len(y_train)\n",
    "\n",
    "print(\"Mean apt. price:\", y_mean)\n",
    "# model evaluation\n",
    "print(\"Baseline MEA\",mean_absolute_error(y_train,y_pred_train).round(2))"
   ]
  },
  {
   "cell_type": "markdown",
   "metadata": {},
   "source": [
    "### Iterate"
   ]
  },
  {
   "cell_type": "markdown",
   "metadata": {},
   "source": [
    "We are making pipeline, in which we are putting our transformer and predictor toghether, so that their is no need of transformation and prediction seperately."
   ]
  },
  {
   "cell_type": "code",
   "execution_count": 50,
   "metadata": {},
   "outputs": [],
   "source": [
    "# Instantiate\n",
    "model = make_pipeline(\n",
    "    OneHotEncoder(use_cat_names=True),\n",
    "    SimpleImputer(),\n",
    "    Ridge()\n",
    ")"
   ]
  },
  {
   "cell_type": "markdown",
   "metadata": {},
   "source": [
    "(i) OneHotEncoder encode the non numeric value to numeric value, cause we need numeric value to fit our linear regression model.    \n",
    "\n",
    "(ii) Simple Imputer impute the missing values, dropping the missing value is not a good idea because our model fit well on more data.   \n",
    "\n",
    "(iii) Ridge Regression is type of linear regression, we are using ridge to predict outcome. we are using Ridge instead of Linear Regression's linear model, because it regularize our model to dataset and keep the values of parameter of our model close to zero.  "
   ]
  },
  {
   "cell_type": "code",
   "execution_count": 51,
   "metadata": {},
   "outputs": [
    {
     "data": {
      "text/plain": [
       "Pipeline(steps=[('onehotencoder',\n",
       "                 OneHotEncoder(cols=['neighborhood'], use_cat_names=True)),\n",
       "                ('simpleimputer', SimpleImputer()), ('ridge', Ridge())])"
      ]
     },
     "execution_count": 51,
     "metadata": {},
     "output_type": "execute_result"
    }
   ],
   "source": [
    "# Fit\n",
    "model.fit(X_train,y_train)"
   ]
  },
  {
   "cell_type": "code",
   "execution_count": 52,
   "metadata": {},
   "outputs": [],
   "source": [
    "# Check your work\n",
    "check_is_fitted(model[-1])"
   ]
  },
  {
   "cell_type": "code",
   "execution_count": 53,
   "metadata": {},
   "outputs": [
    {
     "name": "stdout",
     "output_type": "stream",
     "text": [
      "MEA Training: 24092.36\n"
     ]
    }
   ],
   "source": [
    "# Predict\n",
    "y_pred_train = model.predict(X_train)\n",
    "print(\"MEA Training:\", mean_absolute_error(y_train,y_pred_train).round(2))"
   ]
  },
  {
   "cell_type": "markdown",
   "metadata": {},
   "source": [
    "After looking at performance we can say that our model are working fine, which having low mea of aprox $20,000 than our baseline mea."
   ]
  },
  {
   "cell_type": "markdown",
   "metadata": {},
   "source": [
    "#### Testing Model"
   ]
  },
  {
   "cell_type": "code",
   "execution_count": 54,
   "metadata": {},
   "outputs": [],
   "source": [
    "# Test model on testing set\n",
    "y_pred_test = pd.Series(model.predict(X_test))"
   ]
  },
  {
   "cell_type": "code",
   "execution_count": 55,
   "metadata": {},
   "outputs": [
    {
     "data": {
      "text/plain": [
       "0    149198.307730\n",
       "1    116774.462470\n",
       "2    157007.076231\n",
       "3    233829.404486\n",
       "4    207488.334547\n",
       "dtype: float64"
      ]
     },
     "execution_count": 55,
     "metadata": {},
     "output_type": "execute_result"
    }
   ],
   "source": [
    "y_pred_test.head()"
   ]
  },
  {
   "cell_type": "code",
   "execution_count": 56,
   "metadata": {},
   "outputs": [
    {
     "name": "stdout",
     "output_type": "stream",
     "text": [
      "Mean Absolute Error: 24903.45\n"
     ]
    }
   ],
   "source": [
    "# Evaluation\n",
    "print(\"Mean Absolute Error:\",mean_absolute_error(y_test,y_pred_test).round(2))"
   ]
  },
  {
   "cell_type": "markdown",
   "metadata": {},
   "source": [
    "Performance of our model on test set is way better than baseline model, mean our model are generalizing well."
   ]
  },
  {
   "cell_type": "markdown",
   "metadata": {},
   "source": [
    "## Communicate Result"
   ]
  },
  {
   "cell_type": "markdown",
   "metadata": {},
   "source": [
    "Two ways to communicate result  \n",
    "(i) wrap your model into function so that programmer can provide input and receive pridiction as output"
   ]
  },
  {
   "cell_type": "code",
   "execution_count": 57,
   "metadata": {},
   "outputs": [],
   "source": [
    "def make_prediction(area,lat,lon,neighborhood):\n",
    "    data = {\n",
    "        \"surface_covered_in_m2\":area,\n",
    "        \"lat\":lat,\n",
    "        \"lon\":lon,\n",
    "        \"neighborhood\":neighborhood\n",
    "    }\n",
    "    df = pd.DataFrame(data, index=[\"h\"])\n",
    "    prediction = model.predict(df)[0].round(2)\n",
    "    return f\"Predicted Aprtment Price: {prediction}\""
   ]
  },
  {
   "cell_type": "code",
   "execution_count": 58,
   "metadata": {},
   "outputs": [
    {
     "data": {
      "text/plain": [
       "'Predicted Aprtment Price: 251604.9'"
      ]
     },
     "execution_count": 58,
     "metadata": {},
     "output_type": "execute_result"
    }
   ],
   "source": [
    "make_prediction(110, -34.60, -58.46, \"Villa Crespo\")"
   ]
  },
  {
   "cell_type": "markdown",
   "metadata": {},
   "source": [
    "(ii) Interactive widget"
   ]
  },
  {
   "cell_type": "code",
   "execution_count": 59,
   "metadata": {},
   "outputs": [
    {
     "data": {
      "application/vnd.jupyter.widget-view+json": {
       "model_id": "b6060ab0354744b592137279e9bc0a39",
       "version_major": 2,
       "version_minor": 0
      },
      "text/plain": [
       "interactive(children=(IntSlider(value=53, description='area', min=30), FloatSlider(value=-34.598959159051525, …"
      ]
     },
     "metadata": {},
     "output_type": "display_data"
    }
   ],
   "source": [
    "# Create a interact function in jupyter Widgets\n",
    "\n",
    "interact(\n",
    "    make_prediction,\n",
    "    \n",
    "    area = IntSlider(\n",
    "        min = X_train[\"surface_covered_in_m2\"].min(),\n",
    "        max = X_train[\"surface_covered_in_m2\"].max(),\n",
    "        value = X_train[\"surface_covered_in_m2\"].mean()\n",
    "    ),\n",
    "    \n",
    "    lat = FloatSlider(\n",
    "        min = X_train[\"lat\"].min(),\n",
    "        max = X_train[\"lat\"].max(),\n",
    "        step =0.01,\n",
    "        value = X_train[\"lat\"].mean()\n",
    "    ),\n",
    "    lon = FloatSlider(\n",
    "        min = X_train[\"lon\"].min(),\n",
    "        max = X_train[\"lon\"].max(),\n",
    "        step = 0.01,\n",
    "        value = X_train[\"lon\"].mean()\n",
    "    ),\n",
    "    neighborhood = Dropdown(options=sorted(X_train[\"neighborhood\"].unique())),\n",
    "    \n",
    ");"
   ]
  }
 ],
 "metadata": {
  "kernelspec": {
   "display_name": "Python 3",
   "language": "python",
   "name": "python3"
  },
  "language_info": {
   "codemirror_mode": {
    "name": "ipython",
    "version": 3
   },
   "file_extension": ".py",
   "mimetype": "text/x-python",
   "name": "python",
   "nbconvert_exporter": "python",
   "pygments_lexer": "ipython3",
   "version": "3.8.5"
  }
 },
 "nbformat": 4,
 "nbformat_minor": 4
}
